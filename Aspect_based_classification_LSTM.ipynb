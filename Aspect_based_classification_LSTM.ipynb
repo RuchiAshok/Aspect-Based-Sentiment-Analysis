{
  "nbformat": 4,
  "nbformat_minor": 0,
  "metadata": {
    "colab": {
      "provenance": [],
      "collapsed_sections": []
    },
    "kernelspec": {
      "name": "python3",
      "display_name": "Python 3"
    },
    "language_info": {
      "name": "python"
    }
  },
  "cells": [
    {
      "cell_type": "markdown",
      "source": [
        "#Google Drive Authentication"
      ],
      "metadata": {
        "id": "1e-LGlgQ2Pi_"
      }
    },
    {
      "cell_type": "code",
      "source": [
        "!pip install -U -q PyDrive\n",
        "from pydrive.auth import GoogleAuth\n",
        "from pydrive.drive import GoogleDrive\n",
        "from google.colab import auth\n",
        "from oauth2client.client import GoogleCredentials\n",
        "\n",
        "auth.authenticate_user()\n",
        "gauth = GoogleAuth()\n",
        "gauth.credentials = GoogleCredentials.get_application_default()\n",
        "drive = GoogleDrive(gauth)"
      ],
      "metadata": {
        "id": "sk3UDAxcdBZq"
      },
      "execution_count": null,
      "outputs": []
    },
    {
      "cell_type": "code",
      "source": [
        "from google.colab import drive\n",
        "drive.mount('/content/drive')"
      ],
      "metadata": {
        "id": "r0KfWmZJdHrf",
        "colab": {
          "base_uri": "https://localhost:8080/"
        },
        "outputId": "85e08095-da24-4620-86ca-aafc75694c7e"
      },
      "execution_count": null,
      "outputs": [
        {
          "output_type": "stream",
          "name": "stdout",
          "text": [
            "Mounted at /content/drive\n"
          ]
        }
      ]
    },
    {
      "cell_type": "markdown",
      "source": [
        "#Importing Libraries"
      ],
      "metadata": {
        "id": "xl3NVdVB2Tr8"
      }
    },
    {
      "cell_type": "code",
      "execution_count": null,
      "metadata": {
        "id": "JlRVberHxfq_"
      },
      "outputs": [],
      "source": [
        "import re\n",
        "import os\n",
        "import numpy as np\n",
        "import pandas as pd\n",
        "from sklearn.model_selection import train_test_split\n",
        "import matplotlib.pyplot as plt\n",
        "from tensorflow import keras\n",
        "from bs4 import BeautifulSoup \n",
        "\n",
        "from keras.models import Sequential, load_model\n",
        "from keras.layers import Dense, LSTM, Embedding, Dropout\n",
        "from keras.preprocessing.text import Tokenizer\n",
        "from keras.preprocessing.sequence import pad_sequences\n",
        "\n",
        "import warnings\n",
        "warnings.filterwarnings(\"ignore\")"
      ]
    },
    {
      "cell_type": "markdown",
      "source": [
        "#Converting XML to csv"
      ],
      "metadata": {
        "id": "fSPXXqXd9See"
      }
    },
    {
      "cell_type": "code",
      "source": [
        "file = open(\"drive/MyDrive/train.xml\",'r')\n",
        "contents = file.read()"
      ],
      "metadata": {
        "id": "Bk1pEaVpBx3R"
      },
      "execution_count": null,
      "outputs": []
    },
    {
      "cell_type": "code",
      "source": [
        "doc = BeautifulSoup(contents,'xml')"
      ],
      "metadata": {
        "id": "OStkIYNJGffV"
      },
      "execution_count": null,
      "outputs": []
    },
    {
      "cell_type": "code",
      "source": [
        "text_ = doc.find_all('text')\n",
        "aspectCategories = doc.find_all('aspectCategories')"
      ],
      "metadata": {
        "id": "NAZUuf9LGhr7"
      },
      "execution_count": null,
      "outputs": []
    },
    {
      "cell_type": "code",
      "source": [
        "text_list = []\n",
        "categ_list=[]\n",
        "polarity_list=[]\n",
        "for i in range(len(text_)):\n",
        "   t= text_[i].get_text()\n",
        "   acs=aspectCategories[i].find_all('aspectCategory')\n",
        "   for j in range(len(acs)):\n",
        "     categ= acs[j]['category']\n",
        "     prior= acs[j]['polarity']\n",
        "     text_list.append(t)\n",
        "     categ_list.append(categ)\n",
        "     polarity_list.append(prior)\n",
        "df = pd.DataFrame(list(zip(text_list, categ_list,polarity_list)),\n",
        "               columns =['text', 'aspect_category','polarity'])\n"
      ],
      "metadata": {
        "id": "gDtU7uJlG1P8"
      },
      "execution_count": null,
      "outputs": []
    },
    {
      "cell_type": "code",
      "source": [
        "df.to_csv('train.csv',index=False)"
      ],
      "metadata": {
        "id": "U9vQX0-VNPAY"
      },
      "execution_count": null,
      "outputs": []
    },
    {
      "cell_type": "code",
      "source": [
        "df.head()"
      ],
      "metadata": {
        "colab": {
          "base_uri": "https://localhost:8080/",
          "height": 206
        },
        "id": "yqWAUMkK1K7W",
        "outputId": "07a86701-4cc2-4dd3-bb8a-f6b863199bda"
      },
      "execution_count": null,
      "outputs": [
        {
          "output_type": "execute_result",
          "data": {
            "text/html": [
              "\n",
              "  <div id=\"df-5f19490b-edd6-4919-bd20-213bd22d1d68\">\n",
              "    <div class=\"colab-df-container\">\n",
              "      <div>\n",
              "<style scoped>\n",
              "    .dataframe tbody tr th:only-of-type {\n",
              "        vertical-align: middle;\n",
              "    }\n",
              "\n",
              "    .dataframe tbody tr th {\n",
              "        vertical-align: top;\n",
              "    }\n",
              "\n",
              "    .dataframe thead th {\n",
              "        text-align: right;\n",
              "    }\n",
              "</style>\n",
              "<table border=\"1\" class=\"dataframe\">\n",
              "  <thead>\n",
              "    <tr style=\"text-align: right;\">\n",
              "      <th></th>\n",
              "      <th>text</th>\n",
              "      <th>aspect_category</th>\n",
              "      <th>polarity</th>\n",
              "    </tr>\n",
              "  </thead>\n",
              "  <tbody>\n",
              "    <tr>\n",
              "      <th>0</th>\n",
              "      <td>It might be the best sit down food I've had in...</td>\n",
              "      <td>food</td>\n",
              "      <td>positive</td>\n",
              "    </tr>\n",
              "    <tr>\n",
              "      <th>1</th>\n",
              "      <td>It might be the best sit down food I've had in...</td>\n",
              "      <td>place</td>\n",
              "      <td>neutral</td>\n",
              "    </tr>\n",
              "    <tr>\n",
              "      <th>2</th>\n",
              "      <td>Hostess was extremely accommodating when we ar...</td>\n",
              "      <td>staff</td>\n",
              "      <td>positive</td>\n",
              "    </tr>\n",
              "    <tr>\n",
              "      <th>3</th>\n",
              "      <td>Hostess was extremely accommodating when we ar...</td>\n",
              "      <td>miscellaneous</td>\n",
              "      <td>neutral</td>\n",
              "    </tr>\n",
              "    <tr>\n",
              "      <th>4</th>\n",
              "      <td>We were a couple of minutes late for our reser...</td>\n",
              "      <td>miscellaneous</td>\n",
              "      <td>neutral</td>\n",
              "    </tr>\n",
              "  </tbody>\n",
              "</table>\n",
              "</div>\n",
              "      <button class=\"colab-df-convert\" onclick=\"convertToInteractive('df-5f19490b-edd6-4919-bd20-213bd22d1d68')\"\n",
              "              title=\"Convert this dataframe to an interactive table.\"\n",
              "              style=\"display:none;\">\n",
              "        \n",
              "  <svg xmlns=\"http://www.w3.org/2000/svg\" height=\"24px\"viewBox=\"0 0 24 24\"\n",
              "       width=\"24px\">\n",
              "    <path d=\"M0 0h24v24H0V0z\" fill=\"none\"/>\n",
              "    <path d=\"M18.56 5.44l.94 2.06.94-2.06 2.06-.94-2.06-.94-.94-2.06-.94 2.06-2.06.94zm-11 1L8.5 8.5l.94-2.06 2.06-.94-2.06-.94L8.5 2.5l-.94 2.06-2.06.94zm10 10l.94 2.06.94-2.06 2.06-.94-2.06-.94-.94-2.06-.94 2.06-2.06.94z\"/><path d=\"M17.41 7.96l-1.37-1.37c-.4-.4-.92-.59-1.43-.59-.52 0-1.04.2-1.43.59L10.3 9.45l-7.72 7.72c-.78.78-.78 2.05 0 2.83L4 21.41c.39.39.9.59 1.41.59.51 0 1.02-.2 1.41-.59l7.78-7.78 2.81-2.81c.8-.78.8-2.07 0-2.86zM5.41 20L4 18.59l7.72-7.72 1.47 1.35L5.41 20z\"/>\n",
              "  </svg>\n",
              "      </button>\n",
              "      \n",
              "  <style>\n",
              "    .colab-df-container {\n",
              "      display:flex;\n",
              "      flex-wrap:wrap;\n",
              "      gap: 12px;\n",
              "    }\n",
              "\n",
              "    .colab-df-convert {\n",
              "      background-color: #E8F0FE;\n",
              "      border: none;\n",
              "      border-radius: 50%;\n",
              "      cursor: pointer;\n",
              "      display: none;\n",
              "      fill: #1967D2;\n",
              "      height: 32px;\n",
              "      padding: 0 0 0 0;\n",
              "      width: 32px;\n",
              "    }\n",
              "\n",
              "    .colab-df-convert:hover {\n",
              "      background-color: #E2EBFA;\n",
              "      box-shadow: 0px 1px 2px rgba(60, 64, 67, 0.3), 0px 1px 3px 1px rgba(60, 64, 67, 0.15);\n",
              "      fill: #174EA6;\n",
              "    }\n",
              "\n",
              "    [theme=dark] .colab-df-convert {\n",
              "      background-color: #3B4455;\n",
              "      fill: #D2E3FC;\n",
              "    }\n",
              "\n",
              "    [theme=dark] .colab-df-convert:hover {\n",
              "      background-color: #434B5C;\n",
              "      box-shadow: 0px 1px 3px 1px rgba(0, 0, 0, 0.15);\n",
              "      filter: drop-shadow(0px 1px 2px rgba(0, 0, 0, 0.3));\n",
              "      fill: #FFFFFF;\n",
              "    }\n",
              "  </style>\n",
              "\n",
              "      <script>\n",
              "        const buttonEl =\n",
              "          document.querySelector('#df-5f19490b-edd6-4919-bd20-213bd22d1d68 button.colab-df-convert');\n",
              "        buttonEl.style.display =\n",
              "          google.colab.kernel.accessAllowed ? 'block' : 'none';\n",
              "\n",
              "        async function convertToInteractive(key) {\n",
              "          const element = document.querySelector('#df-5f19490b-edd6-4919-bd20-213bd22d1d68');\n",
              "          const dataTable =\n",
              "            await google.colab.kernel.invokeFunction('convertToInteractive',\n",
              "                                                     [key], {});\n",
              "          if (!dataTable) return;\n",
              "\n",
              "          const docLinkHtml = 'Like what you see? Visit the ' +\n",
              "            '<a target=\"_blank\" href=https://colab.research.google.com/notebooks/data_table.ipynb>data table notebook</a>'\n",
              "            + ' to learn more about interactive tables.';\n",
              "          element.innerHTML = '';\n",
              "          dataTable['output_type'] = 'display_data';\n",
              "          await google.colab.output.renderOutput(dataTable, element);\n",
              "          const docLink = document.createElement('div');\n",
              "          docLink.innerHTML = docLinkHtml;\n",
              "          element.appendChild(docLink);\n",
              "        }\n",
              "      </script>\n",
              "    </div>\n",
              "  </div>\n",
              "  "
            ],
            "text/plain": [
              "                                                text aspect_category  polarity\n",
              "0  It might be the best sit down food I've had in...            food  positive\n",
              "1  It might be the best sit down food I've had in...           place   neutral\n",
              "2  Hostess was extremely accommodating when we ar...           staff  positive\n",
              "3  Hostess was extremely accommodating when we ar...   miscellaneous   neutral\n",
              "4  We were a couple of minutes late for our reser...   miscellaneous   neutral"
            ]
          },
          "metadata": {},
          "execution_count": 34
        }
      ]
    },
    {
      "cell_type": "markdown",
      "source": [
        "#Aspects"
      ],
      "metadata": {
        "id": "GtxwnDbj2XzG"
      }
    },
    {
      "cell_type": "code",
      "source": [
        "aspects = [\"food\", \"staff\", \"miscellaneous\", \"place\",\"service\",\"menu\",\"ambience\",\"price\"]"
      ],
      "metadata": {
        "id": "vNtPHRb1xvDQ"
      },
      "execution_count": null,
      "outputs": []
    },
    {
      "cell_type": "code",
      "source": [
        "df.aspect_category.value_counts()"
      ],
      "metadata": {
        "id": "5nzFSlMgpza_",
        "colab": {
          "base_uri": "https://localhost:8080/"
        },
        "outputId": "fd90af94-593d-4418-ab8f-703e9dfb471f"
      },
      "execution_count": null,
      "outputs": [
        {
          "output_type": "execute_result",
          "data": {
            "text/plain": [
              "food             2297\n",
              "staff            1379\n",
              "miscellaneous     947\n",
              "place             693\n",
              "service           630\n",
              "menu              469\n",
              "ambience          322\n",
              "price             319\n",
              "Name: aspect_category, dtype: int64"
            ]
          },
          "metadata": {},
          "execution_count": 12
        }
      ]
    },
    {
      "cell_type": "markdown",
      "source": [
        "#Aspect Count Distribution"
      ],
      "metadata": {
        "id": "qajTlyHMAwHa"
      }
    },
    {
      "cell_type": "code",
      "source": [
        "data = {'food': 2297, 'staff': 1379,\"miscellaneous\":947,\"place\":693,\"service\":630,\"menu\":469,\"ambience\":322,\"price\":319}\n",
        "names = list(data.keys())\n",
        "values = list(data.values())\n",
        "fig = plt.figure(figsize = (10, 5))\n",
        "plt.bar(range(len(data)), values, tick_label=names,color=\"blue\")\n",
        "plt.show()"
      ],
      "metadata": {
        "colab": {
          "base_uri": "https://localhost:8080/",
          "height": 320
        },
        "id": "7K_5ho9b__GJ",
        "outputId": "0c09a68f-ba74-4e17-aa4e-c554c13311c2"
      },
      "execution_count": null,
      "outputs": [
        {
          "output_type": "display_data",
          "data": {
            "image/png": "[encoded data removed]",
            "text/plain": [
              "<Figure size 720x360 with 1 Axes>"
            ]
          },
          "metadata": {
            "needs_background": "light"
          }
        }
      ]
    },
    {
      "cell_type": "markdown",
      "source": [
        "#LSTM model"
      ],
      "metadata": {
        "id": "_SrJDh8o2aMO"
      }
    },
    {
      "cell_type": "code",
      "source": [
        "def model_lstm(length):\n",
        "  model = Sequential()\n",
        "  model.add(Embedding(5000, 256, input_length=length))\n",
        "  model.add(Dropout(0.3))\n",
        "  model.add(LSTM(256, return_sequences=True, dropout=0.3, recurrent_dropout=0.2))\n",
        "  model.add(LSTM(256, dropout=0.3, recurrent_dropout=0.2))\n",
        "  model.add(Dense(3, activation='softmax'))\n",
        "  return model"
      ],
      "metadata": {
        "id": "ZWvAZZnex9V_"
      },
      "execution_count": null,
      "outputs": []
    },
    {
      "cell_type": "markdown",
      "source": [
        "#Preprocessing and Tokenizing"
      ],
      "metadata": {
        "id": "VJSLWNlp2dRD"
      }
    },
    {
      "cell_type": "code",
      "source": [
        "def tokenizing(data,maxlen,flag):\n",
        "  #preprocessing\n",
        "  data['text'].apply(lambda x: x.lower()) #transform text to lowercase\n",
        "  data['text'] = data['text'].apply(lambda x: re.sub('[^a-zA-z0-9\\s]', '', x))\n",
        "\n",
        "  tokenizer = Tokenizer(num_words=5000, split=\" \")\n",
        "  tokenizer.fit_on_texts(data['text'].values)\n",
        "\n",
        "  X = tokenizer.texts_to_sequences(data['text'].values)\n",
        "  if flag==\"testing\":\n",
        "    X=pad_sequences(X,maxlen=maxlen)\n",
        "  else:\n",
        "    X = pad_sequences(X) # padding our text vector so they all have the same length\n",
        "  return X"
      ],
      "metadata": {
        "id": "9Jx2GtI90saN"
      },
      "execution_count": null,
      "outputs": []
    },
    {
      "cell_type": "markdown",
      "source": [
        "#Training "
      ],
      "metadata": {
        "id": "bx7t8sjG2iWG"
      }
    },
    {
      "cell_type": "code",
      "source": [
        "def training(): \n",
        "  batch_size = 32\n",
        "  epochs = 5\n",
        "\n",
        "  tokenizing_length={}\n",
        "  df_train=pd.read_csv(\"train.csv\")\n",
        "\n",
        "  for aspect in aspects:\n",
        "          print(f\"Starting {aspect}...\")\n",
        "          \n",
        "          df_aspect = df_train[df_train.aspect_category ==aspect]\n",
        "          df_aspect = df_aspect.drop(['aspect_category'], axis = 1)\n",
        "\n",
        "          X = tokenizing(df_aspect,None,\"training\")\n",
        "          maxlen = X.shape[1]\n",
        "          tokenizing_length[aspect] = maxlen\n",
        "          #print(maxlen)\n",
        "\n",
        "          model = model_lstm(maxlen)\n",
        "          model.compile(loss='categorical_crossentropy', optimizer='adam', metrics=['accuracy'])\n",
        "\n",
        "          y = pd.get_dummies(df_aspect['polarity']).values\n",
        "      \n",
        "\n",
        "          X_train, X_valid, y_train, y_valid =train_test_split(X, y, test_size=0.2, random_state=0)\n",
        "          history = model.fit(X_train, y_train, epochs=epochs, batch_size=batch_size, verbose=2,\n",
        "                               validation_data=(X_valid,y_valid))\n",
        "           \n",
        "          print(history.history.keys())\n",
        "\n",
        "          file_name = aspect+'.h5'\n",
        "          path = '/content/drive/MyDrive/NLU_lstm_/'+file_name\n",
        "          model.save(path)\n",
        "\n",
        "          \n",
        "          print(\"\\n\\naccuracy is : \")\n",
        "          score = model.evaluate(X_valid, y_valid)\n",
        "          print('Validation loss:', score[0]) \n",
        "          print('validation accuracy:', score[1])\n",
        "\n",
        "          # Visualization \n",
        "          \n",
        "          # summarize history for accuracy\n",
        "\n",
        "          plt.subplot(211)\n",
        "          plt.plot(history.history['accuracy'])\n",
        "          plt.plot(history.history['val_accuracy'])\n",
        "          plt.title('Model Accuracy')\n",
        "          plt.ylabel('Accuracy')\n",
        "          plt.xlabel('Epoch')\n",
        "          plt.legend(['Training', 'Validation'], loc='lower right')\n",
        "\n",
        "          # summarize history for loss\n",
        "\n",
        "          plt.subplot(212)\n",
        "          plt.plot(history.history['loss'])\n",
        "          plt.plot(history.history['val_loss'])\n",
        "          plt.title('Model Loss')\n",
        "          plt.ylabel('Loss')\n",
        "          plt.xlabel('Epoch')\n",
        "          plt.legend(['Training', 'Validation'], loc='upper right')\n",
        "          plt.tight_layout()\n",
        "\n",
        "          plt.show()\n",
        "  return tokenizing_length"
      ],
      "metadata": {
        "id": "83PhGbIWyFYO"
      },
      "execution_count": null,
      "outputs": []
    },
    {
      "cell_type": "code",
      "source": [
        "tokenizing_length=training()"
      ],
      "metadata": {
        "colab": {
          "base_uri": "https://localhost:8080/",
          "height": 1000
        },
        "id": "yYDs0GVEzXmP",
        "outputId": "0b2ce3db-d37e-42a6-e1aa-41ef92b4e74c"
      },
      "execution_count": null,
      "outputs": [
        {
          "output_type": "stream",
          "name": "stdout",
          "text": [
            "Starting food...\n",
            "Epoch 1/5\n",
            "58/58 - 73s - loss: 0.9101 - accuracy: 0.6026 - val_loss: 0.7711 - val_accuracy: 0.6739 - 73s/epoch - 1s/step\n",
            "Epoch 2/5\n",
            "58/58 - 63s - loss: 0.6844 - accuracy: 0.7387 - val_loss: 0.7594 - val_accuracy: 0.7065 - 63s/epoch - 1s/step\n",
            "Epoch 3/5\n",
            "58/58 - 62s - loss: 0.4537 - accuracy: 0.8318 - val_loss: 0.8756 - val_accuracy: 0.6891 - 62s/epoch - 1s/step\n",
            "Epoch 4/5\n",
            "58/58 - 63s - loss: 0.2864 - accuracy: 0.9047 - val_loss: 0.9412 - val_accuracy: 0.6522 - 63s/epoch - 1s/step\n",
            "Epoch 5/5\n",
            "58/58 - 62s - loss: 0.1711 - accuracy: 0.9396 - val_loss: 1.0432 - val_accuracy: 0.6696 - 62s/epoch - 1s/step\n",
            "dict_keys(['loss', 'accuracy', 'val_loss', 'val_accuracy'])\n",
            "\n",
            "\n",
            "accuracy is : \n",
            "15/15 [==============================] - 2s 160ms/step - loss: 1.0432 - accuracy: 0.6696\n",
            "Validation loss: 1.043151617050171\n",
            "validation accuracy: 0.6695652008056641\n"
          ]
        },
        {
          "output_type": "display_data",
          "data": {
            "image/png": "[encoded data removed]",
            "text/plain": [
              "<Figure size 432x288 with 2 Axes>"
            ]
          },
          "metadata": {
            "needs_background": "light"
          }
        },
        {
          "output_type": "stream",
          "name": "stdout",
          "text": [
            "Starting staff...\n",
            "Epoch 1/5\n",
            "35/35 - 44s - loss: 0.8558 - accuracy: 0.6519 - val_loss: 0.8042 - val_accuracy: 0.6884 - 44s/epoch - 1s/step\n",
            "Epoch 2/5\n",
            "35/35 - 38s - loss: 0.7172 - accuracy: 0.7008 - val_loss: 0.7307 - val_accuracy: 0.7246 - 38s/epoch - 1s/step\n",
            "Epoch 3/5\n",
            "35/35 - 38s - loss: 0.5031 - accuracy: 0.7996 - val_loss: 0.7183 - val_accuracy: 0.7391 - 38s/epoch - 1s/step\n",
            "Epoch 4/5\n",
            "35/35 - 37s - loss: 0.2906 - accuracy: 0.8939 - val_loss: 2.1474 - val_accuracy: 0.5761 - 37s/epoch - 1s/step\n",
            "Epoch 5/5\n",
            "35/35 - 37s - loss: 0.1860 - accuracy: 0.9302 - val_loss: 0.9483 - val_accuracy: 0.6920 - 37s/epoch - 1s/step\n",
            "dict_keys(['loss', 'accuracy', 'val_loss', 'val_accuracy'])\n",
            "\n",
            "\n",
            "accuracy is : \n",
            "9/9 [==============================] - 1s 164ms/step - loss: 0.9483 - accuracy: 0.6920\n",
            "Validation loss: 0.9483482241630554\n",
            "validation accuracy: 0.6920289993286133\n"
          ]
        },
        {
          "output_type": "display_data",
          "data": {
            "image/png": "[encoded data removed]",
            "text/plain": [
              "<Figure size 432x288 with 2 Axes>"
            ]
          },
          "metadata": {
            "needs_background": "light"
          }
        },
        {
          "output_type": "stream",
          "name": "stdout",
          "text": [
            "Starting miscellaneous...\n",
            "Epoch 1/5\n",
            "24/24 - 29s - loss: 1.0136 - accuracy: 0.5469 - val_loss: 0.9536 - val_accuracy: 0.5526 - 29s/epoch - 1s/step\n",
            "Epoch 2/5\n",
            "24/24 - 22s - loss: 0.8846 - accuracy: 0.6090 - val_loss: 0.9255 - val_accuracy: 0.5632 - 22s/epoch - 937ms/step\n",
            "Epoch 3/5\n",
            "24/24 - 22s - loss: 0.6530 - accuracy: 0.7279 - val_loss: 1.0317 - val_accuracy: 0.5737 - 22s/epoch - 925ms/step\n",
            "Epoch 4/5\n",
            "24/24 - 22s - loss: 0.3936 - accuracy: 0.8388 - val_loss: 1.1203 - val_accuracy: 0.5789 - 22s/epoch - 931ms/step\n",
            "Epoch 5/5\n",
            "24/24 - 22s - loss: 0.1735 - accuracy: 0.9458 - val_loss: 1.3202 - val_accuracy: 0.5842 - 22s/epoch - 927ms/step\n",
            "dict_keys(['loss', 'accuracy', 'val_loss', 'val_accuracy'])\n",
            "\n",
            "\n",
            "accuracy is : \n",
            "6/6 [==============================] - 1s 135ms/step - loss: 1.3202 - accuracy: 0.5842\n",
            "Validation loss: 1.3202229738235474\n",
            "validation accuracy: 0.5842105150222778\n"
          ]
        },
        {
          "output_type": "display_data",
          "data": {
            "image/png": "[encoded data removed]",
            "text/plain": [
              "<Figure size 432x288 with 2 Axes>"
            ]
          },
          "metadata": {
            "needs_background": "light"
          }
        },
        {
          "output_type": "stream",
          "name": "stdout",
          "text": [
            "Starting place...\n",
            "Epoch 1/5\n",
            "18/18 - 23s - loss: 0.9862 - accuracy: 0.5939 - val_loss: 0.8417 - val_accuracy: 0.6619 - 23s/epoch - 1s/step\n",
            "Epoch 2/5\n",
            "18/18 - 17s - loss: 0.8506 - accuracy: 0.6173 - val_loss: 0.7683 - val_accuracy: 0.6691 - 17s/epoch - 935ms/step\n",
            "Epoch 3/5\n",
            "18/18 - 18s - loss: 0.6344 - accuracy: 0.7238 - val_loss: 0.7514 - val_accuracy: 0.6835 - 18s/epoch - 980ms/step\n",
            "Epoch 4/5\n",
            "18/18 - 17s - loss: 0.4869 - accuracy: 0.7960 - val_loss: 0.7961 - val_accuracy: 0.6691 - 17s/epoch - 930ms/step\n",
            "Epoch 5/5\n",
            "18/18 - 17s - loss: 0.2614 - accuracy: 0.9134 - val_loss: 1.0539 - val_accuracy: 0.6978 - 17s/epoch - 921ms/step\n",
            "dict_keys(['loss', 'accuracy', 'val_loss', 'val_accuracy'])\n",
            "\n",
            "\n",
            "accuracy is : \n",
            "5/5 [==============================] - 1s 147ms/step - loss: 1.0539 - accuracy: 0.6978\n",
            "Validation loss: 1.0539487600326538\n",
            "validation accuracy: 0.6978417038917542\n"
          ]
        },
        {
          "output_type": "display_data",
          "data": {
            "image/png": "[encoded data removed]",
            "text/plain": [
              "<Figure size 432x288 with 2 Axes>"
            ]
          },
          "metadata": {
            "needs_background": "light"
          }
        },
        {
          "output_type": "stream",
          "name": "stdout",
          "text": [
            "Starting service...\n",
            "Epoch 1/5\n",
            "16/16 - 22s - loss: 1.0473 - accuracy: 0.5020 - val_loss: 0.9808 - val_accuracy: 0.5476 - 22s/epoch - 1s/step\n",
            "Epoch 2/5\n",
            "16/16 - 16s - loss: 0.9824 - accuracy: 0.5139 - val_loss: 0.9921 - val_accuracy: 0.5159 - 16s/epoch - 1s/step\n",
            "Epoch 3/5\n",
            "16/16 - 16s - loss: 0.7578 - accuracy: 0.6429 - val_loss: 1.0319 - val_accuracy: 0.4762 - 16s/epoch - 998ms/step\n",
            "Epoch 4/5\n",
            "16/16 - 16s - loss: 0.5788 - accuracy: 0.7798 - val_loss: 1.1399 - val_accuracy: 0.5556 - 16s/epoch - 1s/step\n",
            "Epoch 5/5\n",
            "16/16 - 16s - loss: 0.4661 - accuracy: 0.8115 - val_loss: 1.3302 - val_accuracy: 0.5397 - 16s/epoch - 999ms/step\n",
            "dict_keys(['loss', 'accuracy', 'val_loss', 'val_accuracy'])\n",
            "\n",
            "\n",
            "accuracy is : \n",
            "4/4 [==============================] - 1s 143ms/step - loss: 1.3302 - accuracy: 0.5397\n",
            "Validation loss: 1.3301818370819092\n",
            "validation accuracy: 0.5396825671195984\n"
          ]
        },
        {
          "output_type": "display_data",
          "data": {
            "image/png": "[encoded data removed]",
            "text/plain": [
              "<Figure size 432x288 with 2 Axes>"
            ]
          },
          "metadata": {
            "needs_background": "light"
          }
        },
        {
          "output_type": "stream",
          "name": "stdout",
          "text": [
            "Starting menu...\n",
            "Epoch 1/5\n",
            "12/12 - 18s - loss: 0.8380 - accuracy: 0.7387 - val_loss: 0.6133 - val_accuracy: 0.8191 - 18s/epoch - 2s/step\n",
            "Epoch 2/5\n",
            "12/12 - 12s - loss: 0.6733 - accuracy: 0.7733 - val_loss: 0.5935 - val_accuracy: 0.8191 - 12s/epoch - 1s/step\n",
            "Epoch 3/5\n",
            "12/12 - 16s - loss: 0.5792 - accuracy: 0.7813 - val_loss: 0.5648 - val_accuracy: 0.7979 - 16s/epoch - 1s/step\n",
            "Epoch 4/5\n",
            "12/12 - 19s - loss: 0.3594 - accuracy: 0.8400 - val_loss: 0.7281 - val_accuracy: 0.7553 - 19s/epoch - 2s/step\n",
            "Epoch 5/5\n",
            "12/12 - 17s - loss: 0.3512 - accuracy: 0.8693 - val_loss: 0.6927 - val_accuracy: 0.7660 - 17s/epoch - 1s/step\n",
            "dict_keys(['loss', 'accuracy', 'val_loss', 'val_accuracy'])\n",
            "\n",
            "\n",
            "accuracy is : \n",
            "3/3 [==============================] - 1s 163ms/step - loss: 0.6927 - accuracy: 0.7660\n",
            "Validation loss: 0.6927300095558167\n",
            "validation accuracy: 0.7659574747085571\n"
          ]
        },
        {
          "output_type": "display_data",
          "data": {
            "image/png": "[encoded data removed]",
            "text/plain": [
              "<Figure size 432x288 with 2 Axes>"
            ]
          },
          "metadata": {
            "needs_background": "light"
          }
        },
        {
          "output_type": "stream",
          "name": "stdout",
          "text": [
            "Starting ambience...\n",
            "Epoch 1/5\n",
            "9/9 - 14s - loss: 1.0871 - accuracy: 0.5486 - val_loss: 1.0501 - val_accuracy: 0.4923 - 14s/epoch - 2s/step\n",
            "Epoch 2/5\n",
            "9/9 - 8s - loss: 0.9796 - accuracy: 0.5798 - val_loss: 1.0387 - val_accuracy: 0.4923 - 8s/epoch - 850ms/step\n",
            "Epoch 3/5\n",
            "9/9 - 8s - loss: 0.9339 - accuracy: 0.5798 - val_loss: 1.0191 - val_accuracy: 0.4923 - 8s/epoch - 842ms/step\n",
            "Epoch 4/5\n",
            "9/9 - 7s - loss: 0.8457 - accuracy: 0.5798 - val_loss: 1.0426 - val_accuracy: 0.4923 - 7s/epoch - 831ms/step\n",
            "Epoch 5/5\n",
            "9/9 - 8s - loss: 0.7047 - accuracy: 0.7082 - val_loss: 1.2369 - val_accuracy: 0.5077 - 8s/epoch - 840ms/step\n",
            "dict_keys(['loss', 'accuracy', 'val_loss', 'val_accuracy'])\n",
            "\n",
            "\n",
            "accuracy is : \n",
            "3/3 [==============================] - 0s 102ms/step - loss: 1.2369 - accuracy: 0.5077\n",
            "Validation loss: 1.2369476556777954\n",
            "validation accuracy: 0.5076923370361328\n"
          ]
        },
        {
          "output_type": "display_data",
          "data": {
            "image/png": "[encoded data removed]",
            "text/plain": [
              "<Figure size 432x288 with 2 Axes>"
            ]
          },
          "metadata": {
            "needs_background": "light"
          }
        },
        {
          "output_type": "stream",
          "name": "stdout",
          "text": [
            "Starting price...\n",
            "Epoch 1/5\n",
            "8/8 - 15s - loss: 1.0843 - accuracy: 0.4039 - val_loss: 1.0395 - val_accuracy: 0.4219 - 15s/epoch - 2s/step\n",
            "Epoch 2/5\n",
            "8/8 - 9s - loss: 1.0477 - accuracy: 0.4902 - val_loss: 1.0324 - val_accuracy: 0.4688 - 9s/epoch - 1s/step\n",
            "Epoch 3/5\n",
            "8/8 - 9s - loss: 0.9273 - accuracy: 0.5686 - val_loss: 0.9310 - val_accuracy: 0.5781 - 9s/epoch - 1s/step\n",
            "Epoch 4/5\n",
            "8/8 - 9s - loss: 0.7254 - accuracy: 0.6824 - val_loss: 0.9881 - val_accuracy: 0.5469 - 9s/epoch - 1s/step\n",
            "Epoch 5/5\n",
            "8/8 - 9s - loss: 0.5046 - accuracy: 0.8980 - val_loss: 0.9391 - val_accuracy: 0.6562 - 9s/epoch - 1s/step\n",
            "dict_keys(['loss', 'accuracy', 'val_loss', 'val_accuracy'])\n",
            "\n",
            "\n",
            "accuracy is : \n",
            "2/2 [==============================] - 0s 166ms/step - loss: 0.9391 - accuracy: 0.6562\n",
            "Validation loss: 0.9391406774520874\n",
            "validation accuracy: 0.65625\n"
          ]
        },
        {
          "output_type": "display_data",
          "data": {
            "image/png": "[encoded data removed]",
            "text/plain": [
              "<Figure size 432x288 with 2 Axes>"
            ]
          },
          "metadata": {
            "needs_background": "light"
          }
        }
      ]
    },
    {
      "cell_type": "markdown",
      "source": [
        "#Test data from xml to csv"
      ],
      "metadata": {
        "id": "hN0KovdvlG_Q"
      }
    },
    {
      "cell_type": "code",
      "source": [
        "file = open(\"drive/MyDrive/text.xml\",'r')\n",
        "contents = file.read()"
      ],
      "metadata": {
        "id": "-YDe664fgPlg"
      },
      "execution_count": null,
      "outputs": []
    },
    {
      "cell_type": "code",
      "source": [
        "doc = BeautifulSoup(contents,'xml')"
      ],
      "metadata": {
        "id": "Us0gbo3dgPlh"
      },
      "execution_count": null,
      "outputs": []
    },
    {
      "cell_type": "code",
      "source": [
        "text_ = doc.find_all('text')"
      ],
      "metadata": {
        "id": "C14B-KIBgPlh"
      },
      "execution_count": null,
      "outputs": []
    },
    {
      "cell_type": "code",
      "source": [
        "text_list = []\n",
        "for i in range(len(text_)):\n",
        "   t= text_[i].get_text()\n",
        "   text_list.append(t)\n",
        "  \n",
        "df = pd.DataFrame(list(zip(text_list)),\n",
        "               columns =['text'])"
      ],
      "metadata": {
        "id": "tzUaaWmjgUno"
      },
      "execution_count": null,
      "outputs": []
    },
    {
      "cell_type": "code",
      "source": [
        "df.head()"
      ],
      "metadata": {
        "colab": {
          "base_uri": "https://localhost:8080/",
          "height": 206
        },
        "id": "NH07_GOMgpIx",
        "outputId": "529a840f-c820-4920-b3c3-8b50170b98ab"
      },
      "execution_count": null,
      "outputs": [
        {
          "output_type": "execute_result",
          "data": {
            "text/html": [
              "\n",
              "  <div id=\"df-01e2e80c-cf3b-48c4-afa4-8c285d74b5c1\">\n",
              "    <div class=\"colab-df-container\">\n",
              "      <div>\n",
              "<style scoped>\n",
              "    .dataframe tbody tr th:only-of-type {\n",
              "        vertical-align: middle;\n",
              "    }\n",
              "\n",
              "    .dataframe tbody tr th {\n",
              "        vertical-align: top;\n",
              "    }\n",
              "\n",
              "    .dataframe thead th {\n",
              "        text-align: right;\n",
              "    }\n",
              "</style>\n",
              "<table border=\"1\" class=\"dataframe\">\n",
              "  <thead>\n",
              "    <tr style=\"text-align: right;\">\n",
              "      <th></th>\n",
              "      <th>text</th>\n",
              "    </tr>\n",
              "  </thead>\n",
              "  <tbody>\n",
              "    <tr>\n",
              "      <th>0</th>\n",
              "      <td>Overall, it is a nice place and if you don't m...</td>\n",
              "    </tr>\n",
              "    <tr>\n",
              "      <th>1</th>\n",
              "      <td>We waited 15 minutes for a menu, another 20 fo...</td>\n",
              "    </tr>\n",
              "    <tr>\n",
              "      <th>2</th>\n",
              "      <td>the dishes are a little too recherche and too ...</td>\n",
              "    </tr>\n",
              "    <tr>\n",
              "      <th>3</th>\n",
              "      <td>The pricing isn't quite clear and look out for...</td>\n",
              "    </tr>\n",
              "    <tr>\n",
              "      <th>4</th>\n",
              "      <td>the menu looked great, but the food was the bi...</td>\n",
              "    </tr>\n",
              "  </tbody>\n",
              "</table>\n",
              "</div>\n",
              "      <button class=\"colab-df-convert\" onclick=\"convertToInteractive('df-01e2e80c-cf3b-48c4-afa4-8c285d74b5c1')\"\n",
              "              title=\"Convert this dataframe to an interactive table.\"\n",
              "              style=\"display:none;\">\n",
              "        \n",
              "  <svg xmlns=\"http://www.w3.org/2000/svg\" height=\"24px\"viewBox=\"0 0 24 24\"\n",
              "       width=\"24px\">\n",
              "    <path d=\"M0 0h24v24H0V0z\" fill=\"none\"/>\n",
              "    <path d=\"M18.56 5.44l.94 2.06.94-2.06 2.06-.94-2.06-.94-.94-2.06-.94 2.06-2.06.94zm-11 1L8.5 8.5l.94-2.06 2.06-.94-2.06-.94L8.5 2.5l-.94 2.06-2.06.94zm10 10l.94 2.06.94-2.06 2.06-.94-2.06-.94-.94-2.06-.94 2.06-2.06.94z\"/><path d=\"M17.41 7.96l-1.37-1.37c-.4-.4-.92-.59-1.43-.59-.52 0-1.04.2-1.43.59L10.3 9.45l-7.72 7.72c-.78.78-.78 2.05 0 2.83L4 21.41c.39.39.9.59 1.41.59.51 0 1.02-.2 1.41-.59l7.78-7.78 2.81-2.81c.8-.78.8-2.07 0-2.86zM5.41 20L4 18.59l7.72-7.72 1.47 1.35L5.41 20z\"/>\n",
              "  </svg>\n",
              "      </button>\n",
              "      \n",
              "  <style>\n",
              "    .colab-df-container {\n",
              "      display:flex;\n",
              "      flex-wrap:wrap;\n",
              "      gap: 12px;\n",
              "    }\n",
              "\n",
              "    .colab-df-convert {\n",
              "      background-color: #E8F0FE;\n",
              "      border: none;\n",
              "      border-radius: 50%;\n",
              "      cursor: pointer;\n",
              "      display: none;\n",
              "      fill: #1967D2;\n",
              "      height: 32px;\n",
              "      padding: 0 0 0 0;\n",
              "      width: 32px;\n",
              "    }\n",
              "\n",
              "    .colab-df-convert:hover {\n",
              "      background-color: #E2EBFA;\n",
              "      box-shadow: 0px 1px 2px rgba(60, 64, 67, 0.3), 0px 1px 3px 1px rgba(60, 64, 67, 0.15);\n",
              "      fill: #174EA6;\n",
              "    }\n",
              "\n",
              "    [theme=dark] .colab-df-convert {\n",
              "      background-color: #3B4455;\n",
              "      fill: #D2E3FC;\n",
              "    }\n",
              "\n",
              "    [theme=dark] .colab-df-convert:hover {\n",
              "      background-color: #434B5C;\n",
              "      box-shadow: 0px 1px 3px 1px rgba(0, 0, 0, 0.15);\n",
              "      filter: drop-shadow(0px 1px 2px rgba(0, 0, 0, 0.3));\n",
              "      fill: #FFFFFF;\n",
              "    }\n",
              "  </style>\n",
              "\n",
              "      <script>\n",
              "        const buttonEl =\n",
              "          document.querySelector('#df-01e2e80c-cf3b-48c4-afa4-8c285d74b5c1 button.colab-df-convert');\n",
              "        buttonEl.style.display =\n",
              "          google.colab.kernel.accessAllowed ? 'block' : 'none';\n",
              "\n",
              "        async function convertToInteractive(key) {\n",
              "          const element = document.querySelector('#df-01e2e80c-cf3b-48c4-afa4-8c285d74b5c1');\n",
              "          const dataTable =\n",
              "            await google.colab.kernel.invokeFunction('convertToInteractive',\n",
              "                                                     [key], {});\n",
              "          if (!dataTable) return;\n",
              "\n",
              "          const docLinkHtml = 'Like what you see? Visit the ' +\n",
              "            '<a target=\"_blank\" href=https://colab.research.google.com/notebooks/data_table.ipynb>data table notebook</a>'\n",
              "            + ' to learn more about interactive tables.';\n",
              "          element.innerHTML = '';\n",
              "          dataTable['output_type'] = 'display_data';\n",
              "          await google.colab.output.renderOutput(dataTable, element);\n",
              "          const docLink = document.createElement('div');\n",
              "          docLink.innerHTML = docLinkHtml;\n",
              "          element.appendChild(docLink);\n",
              "        }\n",
              "      </script>\n",
              "    </div>\n",
              "  </div>\n",
              "  "
            ],
            "text/plain": [
              "                                                text\n",
              "0  Overall, it is a nice place and if you don't m...\n",
              "1  We waited 15 minutes for a menu, another 20 fo...\n",
              "2  the dishes are a little too recherche and too ...\n",
              "3  The pricing isn't quite clear and look out for...\n",
              "4  the menu looked great, but the food was the bi..."
            ]
          },
          "metadata": {},
          "execution_count": 16
        }
      ]
    },
    {
      "cell_type": "code",
      "source": [
        "df.to_csv(\"test.csv\",index=False)"
      ],
      "metadata": {
        "id": "aecRs3sb37ck"
      },
      "execution_count": null,
      "outputs": []
    },
    {
      "cell_type": "code",
      "source": [
        "test_data = pd.read_csv(\"test.csv\")\n",
        "test_data.head()"
      ],
      "metadata": {
        "colab": {
          "base_uri": "https://localhost:8080/",
          "height": 206
        },
        "id": "eQxCDT3l7p6E",
        "outputId": "6c77d7ed-ac57-452c-9079-e67b82e9d09a"
      },
      "execution_count": null,
      "outputs": [
        {
          "output_type": "execute_result",
          "data": {
            "text/html": [
              "\n",
              "  <div id=\"df-b5876dd9-2b47-4678-b473-d6ff7c9ad37b\">\n",
              "    <div class=\"colab-df-container\">\n",
              "      <div>\n",
              "<style scoped>\n",
              "    .dataframe tbody tr th:only-of-type {\n",
              "        vertical-align: middle;\n",
              "    }\n",
              "\n",
              "    .dataframe tbody tr th {\n",
              "        vertical-align: top;\n",
              "    }\n",
              "\n",
              "    .dataframe thead th {\n",
              "        text-align: right;\n",
              "    }\n",
              "</style>\n",
              "<table border=\"1\" class=\"dataframe\">\n",
              "  <thead>\n",
              "    <tr style=\"text-align: right;\">\n",
              "      <th></th>\n",
              "      <th>text</th>\n",
              "    </tr>\n",
              "  </thead>\n",
              "  <tbody>\n",
              "    <tr>\n",
              "      <th>0</th>\n",
              "      <td>Overall, it is a nice place and if you don't m...</td>\n",
              "    </tr>\n",
              "    <tr>\n",
              "      <th>1</th>\n",
              "      <td>We waited 15 minutes for a menu, another 20 fo...</td>\n",
              "    </tr>\n",
              "    <tr>\n",
              "      <th>2</th>\n",
              "      <td>the dishes are a little too recherche and too ...</td>\n",
              "    </tr>\n",
              "    <tr>\n",
              "      <th>3</th>\n",
              "      <td>The pricing isn't quite clear and look out for...</td>\n",
              "    </tr>\n",
              "    <tr>\n",
              "      <th>4</th>\n",
              "      <td>the menu looked great, but the food was the bi...</td>\n",
              "    </tr>\n",
              "  </tbody>\n",
              "</table>\n",
              "</div>\n",
              "      <button class=\"colab-df-convert\" onclick=\"convertToInteractive('df-b5876dd9-2b47-4678-b473-d6ff7c9ad37b')\"\n",
              "              title=\"Convert this dataframe to an interactive table.\"\n",
              "              style=\"display:none;\">\n",
              "        \n",
              "  <svg xmlns=\"http://www.w3.org/2000/svg\" height=\"24px\"viewBox=\"0 0 24 24\"\n",
              "       width=\"24px\">\n",
              "    <path d=\"M0 0h24v24H0V0z\" fill=\"none\"/>\n",
              "    <path d=\"M18.56 5.44l.94 2.06.94-2.06 2.06-.94-2.06-.94-.94-2.06-.94 2.06-2.06.94zm-11 1L8.5 8.5l.94-2.06 2.06-.94-2.06-.94L8.5 2.5l-.94 2.06-2.06.94zm10 10l.94 2.06.94-2.06 2.06-.94-2.06-.94-.94-2.06-.94 2.06-2.06.94z\"/><path d=\"M17.41 7.96l-1.37-1.37c-.4-.4-.92-.59-1.43-.59-.52 0-1.04.2-1.43.59L10.3 9.45l-7.72 7.72c-.78.78-.78 2.05 0 2.83L4 21.41c.39.39.9.59 1.41.59.51 0 1.02-.2 1.41-.59l7.78-7.78 2.81-2.81c.8-.78.8-2.07 0-2.86zM5.41 20L4 18.59l7.72-7.72 1.47 1.35L5.41 20z\"/>\n",
              "  </svg>\n",
              "      </button>\n",
              "      \n",
              "  <style>\n",
              "    .colab-df-container {\n",
              "      display:flex;\n",
              "      flex-wrap:wrap;\n",
              "      gap: 12px;\n",
              "    }\n",
              "\n",
              "    .colab-df-convert {\n",
              "      background-color: #E8F0FE;\n",
              "      border: none;\n",
              "      border-radius: 50%;\n",
              "      cursor: pointer;\n",
              "      display: none;\n",
              "      fill: #1967D2;\n",
              "      height: 32px;\n",
              "      padding: 0 0 0 0;\n",
              "      width: 32px;\n",
              "    }\n",
              "\n",
              "    .colab-df-convert:hover {\n",
              "      background-color: #E2EBFA;\n",
              "      box-shadow: 0px 1px 2px rgba(60, 64, 67, 0.3), 0px 1px 3px 1px rgba(60, 64, 67, 0.15);\n",
              "      fill: #174EA6;\n",
              "    }\n",
              "\n",
              "    [theme=dark] .colab-df-convert {\n",
              "      background-color: #3B4455;\n",
              "      fill: #D2E3FC;\n",
              "    }\n",
              "\n",
              "    [theme=dark] .colab-df-convert:hover {\n",
              "      background-color: #434B5C;\n",
              "      box-shadow: 0px 1px 3px 1px rgba(0, 0, 0, 0.15);\n",
              "      filter: drop-shadow(0px 1px 2px rgba(0, 0, 0, 0.3));\n",
              "      fill: #FFFFFF;\n",
              "    }\n",
              "  </style>\n",
              "\n",
              "      <script>\n",
              "        const buttonEl =\n",
              "          document.querySelector('#df-b5876dd9-2b47-4678-b473-d6ff7c9ad37b button.colab-df-convert');\n",
              "        buttonEl.style.display =\n",
              "          google.colab.kernel.accessAllowed ? 'block' : 'none';\n",
              "\n",
              "        async function convertToInteractive(key) {\n",
              "          const element = document.querySelector('#df-b5876dd9-2b47-4678-b473-d6ff7c9ad37b');\n",
              "          const dataTable =\n",
              "            await google.colab.kernel.invokeFunction('convertToInteractive',\n",
              "                                                     [key], {});\n",
              "          if (!dataTable) return;\n",
              "\n",
              "          const docLinkHtml = 'Like what you see? Visit the ' +\n",
              "            '<a target=\"_blank\" href=https://colab.research.google.com/notebooks/data_table.ipynb>data table notebook</a>'\n",
              "            + ' to learn more about interactive tables.';\n",
              "          element.innerHTML = '';\n",
              "          dataTable['output_type'] = 'display_data';\n",
              "          await google.colab.output.renderOutput(dataTable, element);\n",
              "          const docLink = document.createElement('div');\n",
              "          docLink.innerHTML = docLinkHtml;\n",
              "          element.appendChild(docLink);\n",
              "        }\n",
              "      </script>\n",
              "    </div>\n",
              "  </div>\n",
              "  "
            ],
            "text/plain": [
              "                                                text\n",
              "0  Overall, it is a nice place and if you don't m...\n",
              "1  We waited 15 minutes for a menu, another 20 fo...\n",
              "2  the dishes are a little too recherche and too ...\n",
              "3  The pricing isn't quite clear and look out for...\n",
              "4  the menu looked great, but the food was the bi..."
            ]
          },
          "metadata": {},
          "execution_count": 21
        }
      ]
    },
    {
      "cell_type": "markdown",
      "source": [
        "#Prediction with test data\n",
        "\n"
      ],
      "metadata": {
        "id": "JWQh6FL424h4"
      }
    },
    {
      "cell_type": "code",
      "source": [
        "def testing(tokenizing_length):\n",
        "  test_data = pd.read_csv(\"test.csv\")\n",
        "  len_=test_data.shape[0] \n",
        "  lst = list(np.arange(0,len_))\n",
        "  test_data['id']=lst\n",
        "  \n",
        "\n",
        "  aspects = [\"food\", \"staff\", \"miscellaneous\", \"place\",\"service\",\"menu\",\"ambience\",\"price\"]\n",
        "  models_dict = {}\n",
        "  predicted_df =pd.DataFrame()\n",
        "\n",
        "  for aspect in aspects:\n",
        "        aspect_df= pd.DataFrame()\n",
        "        X_test = tokenizing(test_data,tokenizing_length[aspect],\"testing\")\n",
        "        path = \"/content/drive/MyDrive/NLU_lstm/\"+aspect+\".h5\"\n",
        "\n",
        "        model = keras.models.load_model(path)\n",
        "\n",
        "        predictions = model.predict(X_test)\n",
        "\n",
        "        \n",
        "        predicted_polarity=[]\n",
        "        aspect_score=[]\n",
        "        for i in range(len(predictions)):\n",
        "              max_index=np.argmax(predictions[i])\n",
        "              predicted_polarity.append(max_index)\n",
        "              aspect_score.append(predictions[i][max_index])\n",
        "        aspect_df['id']=test_data['id']\n",
        "        aspect_df['text'] = test_data['text']\n",
        "        aspect_list = [aspect]*len(test_data)\n",
        "        aspect_df['aspect_category']=aspect_list\n",
        "        aspect_df['polarity']=predicted_polarity\n",
        "        aspect_df['aspect_score'] =aspect_score\n",
        "        predicted_df = predicted_df.append(aspect_df)\n",
        "  return predicted_df"
      ],
      "metadata": {
        "id": "-Dmnz03m-R_C"
      },
      "execution_count": null,
      "outputs": []
    },
    {
      "cell_type": "code",
      "source": [
        "predicted_df = testing(tokenizing_length)"
      ],
      "metadata": {
        "id": "DfpXUUcDaGns"
      },
      "execution_count": null,
      "outputs": []
    },
    {
      "cell_type": "code",
      "source": [
        "df=predicted_df\n",
        "\n",
        "polarity_new=[]\n",
        "for each_example in df.itertuples():\n",
        "  if each_example.polarity==0:\n",
        "    polarity_new.append(\"positive\")\n",
        "  elif each_example.polarity==1:\n",
        "    polarity_new.append(\"neutral\")\n",
        "  else:\n",
        "    polarity_new.append(\"negative\")\n",
        "\n",
        "df['polarity']=polarity_new\n",
        "df= df.sort_values('id')\n",
        "df= df[df.aspect_score>=0.7]"
      ],
      "metadata": {
        "id": "YQwZ0gfOjhKL"
      },
      "execution_count": null,
      "outputs": []
    },
    {
      "cell_type": "code",
      "source": [
        "df.to_csv(\"prediction.csv\",index=False)"
      ],
      "metadata": {
        "id": "XIhLlurXgcVm"
      },
      "execution_count": null,
      "outputs": []
    },
    {
      "cell_type": "code",
      "source": [
        "dataf= pd.read_csv(\"prediction.csv\")\n",
        "test_data = pd.read_csv(\"test.csv\")\n",
        "len_=test_data.shape[0] "
      ],
      "metadata": {
        "id": "IRskn5yZiZR0"
      },
      "execution_count": null,
      "outputs": []
    },
    {
      "cell_type": "markdown",
      "source": [
        "#Predicted Dataframe to XML"
      ],
      "metadata": {
        "id": "28eFZkxD3LsG"
      }
    },
    {
      "cell_type": "code",
      "source": [
        "index=0\n",
        "text_final =\"<sentences>\"\n",
        "for i in range(len_):\n",
        "  len_temp = dataf[dataf.id==i].shape[0]\n",
        "  text = dataf[dataf.id==i].text.values[0]\n",
        "\n",
        "\n",
        "\n",
        "  for j in range(len_temp):\n",
        "    if j==0:\n",
        "      text_final =text_final+\"<sentence><text>\"+text+\"</text>\"+\"<aspectCategories>\"\n",
        "    aspect = dataf.aspect_category[index]\n",
        "    polarity = dataf.polarity[index]\n",
        "    text_final = text_final+ \"<aspectCategory category=\"+'\"' + aspect+ '\"'+\" polarity=\"+'\"' + polarity+ '\"'+\"/>\"\n",
        "    index=index+1\n",
        "  text_final = text_final+\"</aspectCategories></sentence>\"\n",
        "text_final =text_final+\"</sentences>\"\n",
        "print(text_final)"
      ],
      "metadata": {
        "colab": {
          "base_uri": "https://localhost:8080/"
        },
        "id": "xKOoyDQws_JE",
        "outputId": "e5552e2b-96f0-413a-b8a0-59219ab298cc"
      },
      "execution_count": null,
      "outputs": [
        {
          "output_type": "stream",
          "name": "stdout",
          "text": [
            "<sentences><sentence><text>Overall it is a nice place and if you dont mind possible attitude and the notsocheap prices it is a great place to meet for coffee or drinks they have a nice selection of that too</text><aspectCategories><aspectCategory category=\"food\" polarity=\"neutral\"/><aspectCategory category=\"menu\" polarity=\"neutral\"/><aspectCategory category=\"ambience\" polarity=\"negative\"/><aspectCategory category=\"staff\" polarity=\"positive\"/><aspectCategory category=\"place\" polarity=\"neutral\"/></aspectCategories></sentence><sentence><text>We waited 15 minutes for a menu another 20 for a tea another 15 for an appetizer then when the plates came out the waitress had to ask me what Id ordered</text><aspectCategories><aspectCategory category=\"menu\" polarity=\"neutral\"/><aspectCategory category=\"place\" polarity=\"neutral\"/><aspectCategory category=\"food\" polarity=\"neutral\"/><aspectCategory category=\"staff\" polarity=\"positive\"/></aspectCategories></sentence><sentence><text>the dishes are a little too recherche and too trendy for their own good and there is not enough on the menu for vegetarians</text><aspectCategories><aspectCategory category=\"staff\" polarity=\"positive\"/><aspectCategory category=\"menu\" polarity=\"neutral\"/></aspectCategories></sentence><sentence><text>The pricing isnt quite clear and look out for that asterisk on the menu where they add on that extra 68 bucks</text><aspectCategories><aspectCategory category=\"miscellaneous\" polarity=\"neutral\"/><aspectCategory category=\"menu\" polarity=\"neutral\"/><aspectCategory category=\"place\" polarity=\"neutral\"/></aspectCategories></sentence><sentence><text>the menu looked great but the food was the biggest disappointment ive had yet</text><aspectCategories><aspectCategory category=\"food\" polarity=\"neutral\"/><aspectCategory category=\"miscellaneous\" polarity=\"neutral\"/><aspectCategory category=\"menu\" polarity=\"neutral\"/></aspectCategories></sentence><sentence><text>My boyfriend and I went one Friday night to find that the place was empty except for one other table</text><aspectCategories><aspectCategory category=\"menu\" polarity=\"neutral\"/><aspectCategory category=\"miscellaneous\" polarity=\"neutral\"/><aspectCategory category=\"food\" polarity=\"neutral\"/><aspectCategory category=\"place\" polarity=\"neutral\"/></aspectCategories></sentence><sentence><text>The Pink Ponys brunch is among the very best in the city</text><aspectCategories><aspectCategory category=\"menu\" polarity=\"neutral\"/></aspectCategories></sentence><sentence><text>The environment is a touch loud although the musics good but the walls sport nifty vintage items from license plates to pennants to movie posters</text><aspectCategories><aspectCategory category=\"menu\" polarity=\"neutral\"/><aspectCategory category=\"place\" polarity=\"neutral\"/><aspectCategory category=\"staff\" polarity=\"positive\"/></aspectCategories></sentence><sentence><text>Only quibbles are soso wine service and while Prixfixe is reasonable at 68 extra charges for additional dishestastings can be high</text><aspectCategories><aspectCategory category=\"miscellaneous\" polarity=\"neutral\"/><aspectCategory category=\"menu\" polarity=\"neutral\"/></aspectCategories></sentence><sentence><text>Our waiter was a real pro knew a lot about ingredients and allowed us to take our time</text><aspectCategories><aspectCategory category=\"menu\" polarity=\"neutral\"/><aspectCategory category=\"miscellaneous\" polarity=\"neutral\"/></aspectCategories></sentence><sentence><text>Fresh fish tender milk fed veal and outrageous Veal Chops adorn their menu and special list</text><aspectCategories><aspectCategory category=\"staff\" polarity=\"negative\"/><aspectCategory category=\"menu\" polarity=\"neutral\"/></aspectCategories></sentence><sentence><text>Any sandwich or appetizer on the menu is delicious</text><aspectCategories><aspectCategory category=\"staff\" polarity=\"negative\"/><aspectCategory category=\"menu\" polarity=\"neutral\"/></aspectCategories></sentence><sentence><text>Expect to stand around for a while before one of the waiters desides that they can be bothered to actually get you to a seat</text><aspectCategories><aspectCategory category=\"menu\" polarity=\"neutral\"/><aspectCategory category=\"staff\" polarity=\"positive\"/><aspectCategory category=\"place\" polarity=\"neutral\"/><aspectCategory category=\"miscellaneous\" polarity=\"neutral\"/></aspectCategories></sentence><sentence><text>Good value for moneyespecially the 7 lunch special for 2 courses</text><aspectCategories><aspectCategory category=\"menu\" polarity=\"neutral\"/></aspectCategories></sentence><sentence><text>The staff were rude and rushed us through our meal clearing plates and laying down dessert menus while others were still eating their main courses</text><aspectCategories><aspectCategory category=\"menu\" polarity=\"neutral\"/><aspectCategory category=\"miscellaneous\" polarity=\"neutral\"/></aspectCategories></sentence></sentences>\n"
          ]
        }
      ]
    },
    {
      "cell_type": "code",
      "source": [],
      "metadata": {
        "id": "T_ZS2Yrz7xbM"
      },
      "execution_count": null,
      "outputs": []
    }
  ]
}